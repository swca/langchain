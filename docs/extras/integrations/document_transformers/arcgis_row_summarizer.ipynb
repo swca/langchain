{
 "cells": [
  {
   "cell_type": "markdown",
   "id": "5d1a1b46-43ff-4f6d-8862-c6fbbbfc52ee",
   "metadata": {},
   "source": [
    "# ArcGIS Row Summarizer\n",
    "\n",
    "Uses `ArcGISLoader`, `ArcGISRowSummaryChain`, and `ArcGISRowSummaryTransformer` to create summaries of ArcGIS Feature Layers."
   ]
  },
  {
   "cell_type": "code",
   "execution_count": 1,
   "id": "2f4f1621-26ad-45ef-8c95-e69d05950b09",
   "metadata": {},
   "outputs": [],
   "source": [
    "from langchain.chains import ArcGISRowSummaryChain\n",
    "from langchain.chat_models import ChatOpenAI\n",
    "from langchain.document_loaders import ArcGISLoader\n",
    "from langchain.document_transformers import ArcGISRowSummaryTransformer"
   ]
  },
  {
   "cell_type": "code",
   "execution_count": 2,
   "id": "2be28400-9685-407a-9eed-906fb0102a58",
   "metadata": {},
   "outputs": [
    {
     "name": "stdout",
     "output_type": "stream",
     "text": [
      "CPU times: user 1.26 s, sys: 39.4 ms, total: 1.3 s\n",
      "Wall time: 3.08 s\n"
     ]
    },
    {
     "data": {
      "text/plain": [
       "5"
      ]
     },
     "execution_count": 2,
     "metadata": {},
     "output_type": "execute_result"
    }
   ],
   "source": [
    "%%time\n",
    "\n",
    "url = \"https://maps1.vcgov.org/arcgis/rest/services/Beaches/MapServer/7\"\n",
    "\n",
    "loader = ArcGISLoader(url, return_all_records=False, result_record_count=5)\n",
    "\n",
    "docs = loader.load()\n",
    "\n",
    "len(docs)"
   ]
  },
  {
   "cell_type": "code",
   "execution_count": 3,
   "id": "b94001bf-1212-4ae1-99cf-70bec5cc768a",
   "metadata": {},
   "outputs": [],
   "source": [
    "llm = ChatOpenAI(temperature=0)\n",
    "\n",
    "chain = ArcGISRowSummaryChain(llm=llm)\n",
    "\n",
    "transformer = ArcGISRowSummaryTransformer(chain=chain)"
   ]
  },
  {
   "cell_type": "code",
   "execution_count": 4,
   "id": "f9ea9b90-6ff8-4cbd-ac83-7f6afe79eeed",
   "metadata": {},
   "outputs": [
    {
     "name": "stdout",
     "output_type": "stream",
     "text": [
      "CPU times: user 42.7 ms, sys: 8.51 ms, total: 51.2 ms\n",
      "Wall time: 20.6 s\n"
     ]
    }
   ],
   "source": [
    "%%time\n",
    "\n",
    "transformed_docs = transformer.transform_documents(docs)"
   ]
  },
  {
   "cell_type": "code",
   "execution_count": 5,
   "id": "fbf46f4a-7fcf-4f06-a412-b0b3092f3f1d",
   "metadata": {},
   "outputs": [
    {
     "name": "stdout",
     "output_type": "stream",
     "text": [
      "- The beach ramp is located at UNIVERSITY BLVD in the 900 block of N ATLANTIC AV in DAYTONA BEACH.\n",
      "- The beach ramp has an AccessID of DB-048.\n",
      "- The beach ramp is an OPEN VEHICLE RAMP.\n",
      "- The beach ramp is currently in the process of closing.\n",
      "- The beach ramp is accessible from both the driving zone.\n",
      "\n",
      "{'OBJECTID': 4, 'AccessName': 'UNIVERSITY BLVD', 'AccessID': 'DB-048', 'AccessType': 'OPEN VEHICLE RAMP', 'GeneralLoc': '900 BLK N ATLANTIC AV', 'MilePost': 13.74, 'City': 'DAYTONA BEACH', 'AccessStatus': 'CLOSING IN PROGRESS', 'Entry_Date_Time': 1694716547000, 'DrivingZone': 'BOTH'}\n",
      "\n",
      "\n",
      "- The beach ramp is located at Beachway Avenue in New Smyrna Beach.\n",
      "- The access type of the ramp is an open vehicle ramp.\n",
      "- The ramp is currently in the process of closing.\n",
      "- The ramp is located at milepost 1.57.\n",
      "- The ramp is in a driving zone, meaning vehicles are allowed on it.\n",
      "- The entry date and time of the ramp is 1694716547000.\n",
      "\n",
      "{'OBJECTID': 18, 'AccessName': 'BEACHWAY AV', 'AccessID': 'NS-106', 'AccessType': 'OPEN VEHICLE RAMP', 'GeneralLoc': '1400 N ATLANTIC AV', 'MilePost': 1.57, 'City': 'NEW SMYRNA BEACH', 'AccessStatus': 'CLOSING IN PROGRESS', 'Entry_Date_Time': 1694716547000, 'DrivingZone': 'YES'}\n",
      "\n",
      "\n",
      "- Beach ramp ID: NS-141\n",
      "- Access name: 27TH AV\n",
      "- Access type: Open vehicle ramp\n",
      "- Location: 3600 BLK S ATLANTIC AV, NEW SMYRNA BEACH\n",
      "- Milepost: 4.83\n",
      "- Access status: Closed for high tide\n",
      "- Entry date and time: 1694709969000\n",
      "- Driving zone: Both\n",
      "\n",
      "{'OBJECTID': 24, 'AccessName': '27TH AV', 'AccessID': 'NS-141', 'AccessType': 'OPEN VEHICLE RAMP', 'GeneralLoc': '3600 BLK S ATLANTIC AV', 'MilePost': 4.83, 'City': 'NEW SMYRNA BEACH', 'AccessStatus': 'CLOSED FOR HIGH TIDE', 'Entry_Date_Time': 1694709969000, 'DrivingZone': 'BOTH'}\n",
      "\n",
      "\n",
      "- Beach ramp ID: DB-051\n",
      "- Access name: SEABREEZE BLVD\n",
      "- Access type: Open vehicle ramp\n",
      "- Location: 500 BLK N ATLANTIC AV, Daytona Beach\n",
      "- Milepost: 14.24\n",
      "- Access status: Closing in progress\n",
      "- Entry date and time: 1694716547000\n",
      "- Driving zone: Both\n",
      "\n",
      "{'OBJECTID': 26, 'AccessName': 'SEABREEZE BLVD', 'AccessID': 'DB-051', 'AccessType': 'OPEN VEHICLE RAMP', 'GeneralLoc': '500 BLK N ATLANTIC AV', 'MilePost': 14.24, 'City': 'DAYTONA BEACH', 'AccessStatus': 'CLOSING IN PROGRESS', 'Entry_Date_Time': 1694716547000, 'DrivingZone': 'BOTH'}\n",
      "\n",
      "\n",
      "- The beach ramp is located at INTERNATIONAL SPEEDWAY BLVD in Daytona Beach.\n",
      "- The beach ramp has an ID of DB-059.\n",
      "- The beach ramp is an open vehicle ramp.\n",
      "- The beach ramp is located in the 300 block of S ATLANTIC AV.\n",
      "- The beach ramp is at milepost 15.27.\n",
      "- The beach ramp is currently closed due to high tide.\n",
      "- The beach ramp was last accessed on a specific date and time (1694710615000).\n",
      "- The beach ramp can be used by vehicles in both the driving zones.\n",
      "\n",
      "{'OBJECTID': 30, 'AccessName': 'INTERNATIONAL SPEEDWAY BLVD', 'AccessID': 'DB-059', 'AccessType': 'OPEN VEHICLE RAMP', 'GeneralLoc': '300 BLK S ATLANTIC AV', 'MilePost': 15.27, 'City': 'DAYTONA BEACH', 'AccessStatus': 'CLOSED FOR HIGH TIDE', 'Entry_Date_Time': 1694710615000, 'DrivingZone': 'BOTH'}\n",
      "\n",
      "\n"
     ]
    }
   ],
   "source": [
    "for doc in transformed_docs:\n",
    "    print(doc.page_content, '\\n\\n', doc.metadata['attributes'], '\\n\\n', sep='')"
   ]
  }
 ],
 "metadata": {
  "kernelspec": {
   "display_name": "Python 3 (ipykernel)",
   "language": "python",
   "name": "python3"
  },
  "language_info": {
   "codemirror_mode": {
    "name": "ipython",
    "version": 3
   },
   "file_extension": ".py",
   "mimetype": "text/x-python",
   "name": "python",
   "nbconvert_exporter": "python",
   "pygments_lexer": "ipython3",
   "version": "3.9.13"
  }
 },
 "nbformat": 4,
 "nbformat_minor": 5
}

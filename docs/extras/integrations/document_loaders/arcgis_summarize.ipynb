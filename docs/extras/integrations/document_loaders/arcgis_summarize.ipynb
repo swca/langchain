{
 "cells": [
  {
   "cell_type": "markdown",
   "id": "dab64c92-f6cc-4cad-8b74-860415154cab",
   "metadata": {},
   "source": [
    "# ArcGIS Layer Summarizer\n",
    "\n",
    "Uses the `ArcGISLayerStuffSummaryChain` and related classes to create a summary of an ArcGIS Feature Layer."
   ]
  },
  {
   "cell_type": "code",
   "execution_count": 1,
   "id": "4ee3be1d-736f-45f3-90e7-fcbb2e488bce",
   "metadata": {},
   "outputs": [],
   "source": [
    "from langchain.chains.arcgis.row.base import ArcGISRowSummaryChain\n",
    "from langchain.chains.arcgis.layer.base import ArcGISLayerStuffSummaryChain, ArcGISLayerSummaryInnerChain\n",
    "from langchain.chat_models import ChatOpenAI\n",
    "from langchain.document_loaders import ArcGISLoader\n",
    "from langchain.document_transformers import ArcGISRowSummaryTransformer"
   ]
  },
  {
   "cell_type": "code",
   "execution_count": 2,
   "id": "8fb1f1f8-2773-4d54-b94f-d7552f7a5eb1",
   "metadata": {},
   "outputs": [
    {
     "name": "stdout",
     "output_type": "stream",
     "text": [
      "CPU times: user 1.22 s, sys: 155 ms, total: 1.37 s\n",
      "Wall time: 3.6 s\n"
     ]
    }
   ],
   "source": [
    "%%time\n",
    "\n",
    "url = \"https://maps1.vcgov.org/arcgis/rest/services/Beaches/MapServer/7\"\n",
    "\n",
    "loader = ArcGISLoader(url, return_all_records=False, result_record_count=5)\n",
    "\n",
    "docs = loader.load()"
   ]
  },
  {
   "cell_type": "code",
   "execution_count": 3,
   "id": "76d69a83-80d3-444b-88ad-3d7fe68cc47d",
   "metadata": {},
   "outputs": [],
   "source": [
    "llm = ChatOpenAI(temperature=0)\n",
    "\n",
    "row_chain = ArcGISRowSummaryChain(llm=llm)\n",
    "\n",
    "document_transformer = ArcGISRowSummaryTransformer(chain=row_chain)"
   ]
  },
  {
   "cell_type": "code",
   "execution_count": 4,
   "id": "875097f7-b2f7-4121-a33b-4a1b3cf2efcd",
   "metadata": {},
   "outputs": [],
   "source": [
    "import asyncio\n",
    "\n",
    "import nest_asyncio\n",
    "\n",
    "nest_asyncio.apply()\n",
    "\n",
    "def main():\n",
    "\n",
    "    async def _main():\n",
    "        return await document_transformer.atransform_documents(docs)\n",
    "\n",
    "    return asyncio.run(_main())"
   ]
  },
  {
   "cell_type": "code",
   "execution_count": 5,
   "id": "cdea15a6-9715-4821-b859-bf1f2b05b119",
   "metadata": {},
   "outputs": [
    {
     "name": "stdout",
     "output_type": "stream",
     "text": [
      "CPU times: user 66.2 ms, sys: 7.16 ms, total: 73.4 ms\n",
      "Wall time: 5.99 s\n"
     ]
    }
   ],
   "source": [
    "%%time\n",
    "\n",
    "transformed_docs = main()"
   ]
  },
  {
   "cell_type": "code",
   "execution_count": 6,
   "id": "ddc8c437-8514-4953-b439-c083ea7e5146",
   "metadata": {},
   "outputs": [],
   "source": [
    "layer_inner_chain = ArcGISLayerSummaryInnerChain(llm=llm)\n",
    "\n",
    "stuff_chain = ArcGISLayerStuffSummaryChain(llm_chain=layer_inner_chain)"
   ]
  },
  {
   "cell_type": "code",
   "execution_count": 7,
   "id": "fa73cfdd-92c1-43ee-9320-86979a4d1fdf",
   "metadata": {},
   "outputs": [
    {
     "name": "stdout",
     "output_type": "stream",
     "text": [
      "CPU times: user 31.3 ms, sys: 0 ns, total: 31.3 ms\n",
      "Wall time: 12.5 s\n"
     ]
    }
   ],
   "source": [
    "%%time\n",
    "\n",
    "result = stuff_chain.combine_docs(transformed_docs)"
   ]
  },
  {
   "cell_type": "code",
   "execution_count": 8,
   "id": "6ceba28e-787a-476a-9821-0a4c0840adb4",
   "metadata": {},
   "outputs": [
    {
     "name": "stdout",
     "output_type": "stream",
     "text": [
      "Based on the summaries provided by the Beach Ramps API, here are the key findings:\n",
      "\n",
      "1. There are multiple beach ramps located in different cities along the coast, including Ormond Beach, New Smyrna Beach, and Daytona Beach.\n",
      "\n",
      "2. The beach ramps are identified by unique AccessIDs, such as OB-036, NS-110, NS-108, DB-043, and DB-042.\n",
      "\n",
      "3. The beach ramps are classified as \"OPEN VEHICLE RAMP,\" indicating that they are designed for vehicles to access the beach.\n",
      "\n",
      "4. The specific locations of the beach ramps include CARDINAL DR in Ormond Beach, 600 block of S Atlantic Avenue in Ormond Beach, 500 BLK FLAGLER AV in New Smyrna Beach, 800 BLK N ATLANTIC AV in New Smyrna Beach, Hartford Avenue in Daytona Beach, and 2200 BLK N ATLANTIC AV in Daytona Beach.\n",
      "\n",
      "5. The beach ramps have different milepost values, ranging from 2.19 to 12.76, indicating their positions along the coast.\n",
      "\n",
      "6. The beach ramps are currently closed, as indicated by the \"CLOSED\" access status.\n",
      "\n",
      "7. The entry date and time for the beach ramps is consistent across all summaries, with a value of 1694718347000.\n",
      "\n",
      "8. All beach ramps mentioned are within a driving zone, meaning vehicles are allowed to drive on them.\n",
      "\n",
      "These findings provide an overview of the beach ramps along the coast, their locations, access status, and classification.\n"
     ]
    }
   ],
   "source": [
    "print(result[0])"
   ]
  }
 ],
 "metadata": {
  "kernelspec": {
   "display_name": "Python 3 (ipykernel)",
   "language": "python",
   "name": "python3"
  },
  "language_info": {
   "codemirror_mode": {
    "name": "ipython",
    "version": 3
   },
   "file_extension": ".py",
   "mimetype": "text/x-python",
   "name": "python",
   "nbconvert_exporter": "python",
   "pygments_lexer": "ipython3",
   "version": "3.9.13"
  }
 },
 "nbformat": 4,
 "nbformat_minor": 5
}
